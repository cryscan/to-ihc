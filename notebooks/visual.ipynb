{
 "cells": [
  {
   "cell_type": "code",
   "execution_count": 1,
   "metadata": {},
   "outputs": [],
   "source": [
    "import time\n",
    "import numpy as np\n",
    "\n",
    "import pinocchio as pin\n",
    "from pinocchio import CollisionPair, ReferenceFrame\n",
    "from pinocchio.robot_wrapper import RobotWrapper"
   ]
  },
  {
   "cell_type": "code",
   "execution_count": 2,
   "metadata": {},
   "outputs": [],
   "source": [
    "URDF = \"/opt/openrobots/share/monoped_description/urdf/monoped.urdf\"\n",
    "robot = RobotWrapper.BuildFromURDF(URDF, root_joint=pin.JointModelFreeFlyer())\n",
    "robot.initViewer(loadModel=True)"
   ]
  },
  {
   "cell_type": "code",
   "execution_count": 3,
   "metadata": {},
   "outputs": [],
   "source": [
    "file = open(\"../out.txt\", 'r')\n",
    "lines = file.readlines()"
   ]
  },
  {
   "cell_type": "code",
   "execution_count": 4,
   "metadata": {
    "scrolled": true
   },
   "outputs": [],
   "source": [
    "xs = []\n",
    "\n",
    "for line in lines:\n",
    "    x = np.array([float(s) for s in str.split(line)])\n",
    "    xs.append(x)"
   ]
  },
  {
   "cell_type": "code",
   "execution_count": 5,
   "metadata": {},
   "outputs": [],
   "source": [
    "dt = 0.1\n",
    "\n",
    "for x in xs:\n",
    "    q = x[:robot.nq]\n",
    "    robot.display(q)\n",
    "    time.sleep(dt)"
   ]
  },
  {
   "cell_type": "code",
   "execution_count": 6,
   "metadata": {},
   "outputs": [],
   "source": [
    "t = 0"
   ]
  },
  {
   "cell_type": "code",
   "execution_count": 40,
   "metadata": {},
   "outputs": [
    {
     "name": "stdout",
     "output_type": "stream",
     "text": [
      "33\n"
     ]
    }
   ],
   "source": [
    "x = xs[t]\n",
    "q = x[:robot.nq]\n",
    "robot.display(q)\n",
    "\n",
    "print(t)\n",
    "t = t + 1"
   ]
  },
  {
   "cell_type": "code",
   "execution_count": null,
   "metadata": {},
   "outputs": [],
   "source": []
  }
 ],
 "metadata": {
  "kernelspec": {
   "display_name": "Python 3",
   "language": "python",
   "name": "python3"
  },
  "language_info": {
   "codemirror_mode": {
    "name": "ipython",
    "version": 3
   },
   "file_extension": ".py",
   "mimetype": "text/x-python",
   "name": "python",
   "nbconvert_exporter": "python",
   "pygments_lexer": "ipython3",
   "version": "3.8.10"
  }
 },
 "nbformat": 4,
 "nbformat_minor": 4
}
