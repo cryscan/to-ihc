{
 "cells": [
  {
   "cell_type": "code",
   "execution_count": 1,
   "metadata": {},
   "outputs": [],
   "source": [
    "import time\n",
    "import numpy as np\n",
    "\n",
    "import pinocchio as pin\n",
    "from pinocchio import CollisionPair, ReferenceFrame\n",
    "from pinocchio.robot_wrapper import RobotWrapper"
   ]
  },
  {
   "cell_type": "code",
   "execution_count": 2,
   "metadata": {},
   "outputs": [],
   "source": [
    "# URDF = \"/opt/openrobots/share/example-robot-data/robots/anymal_b_simple_description/robots/anymal.urdf\"\n",
    "URDF = \"/opt/openrobots/share/monoped_description/urdf/monoped.urdf\"\n",
    "robot = RobotWrapper.BuildFromURDF(URDF, root_joint=pin.JointModelFreeFlyer())"
   ]
  },
  {
   "cell_type": "code",
   "execution_count": 3,
   "metadata": {},
   "outputs": [],
   "source": [
    "robot.initViewer(loadModel=True)\n",
    "# floor.initViewer(loadModel=True)"
   ]
  },
  {
   "cell_type": "code",
   "execution_count": 4,
   "metadata": {
    "scrolled": true
   },
   "outputs": [
    {
     "name": "stdout",
     "output_type": "stream",
     "text": [
      "universe\n",
      "root_joint\n",
      "base\n",
      "haa_joint\n",
      "hipassembly\n",
      "hfe_joint\n",
      "upperleg\n",
      "kfe_joint\n",
      "lowerleg\n",
      "lowerleg_contactsensor_link_joint\n",
      "lowerleg_contactsensor_link\n"
     ]
    },
    {
     "data": {
      "text/plain": [
       "[None, None, None, None, None, None, None, None, None, None, None]"
      ]
     },
     "execution_count": 4,
     "metadata": {},
     "output_type": "execute_result"
    }
   ],
   "source": [
    "[print(frame.name) for frame in robot.model.frames]"
   ]
  },
  {
   "cell_type": "code",
   "execution_count": 5,
   "metadata": {},
   "outputs": [],
   "source": [
    "IDX_BASE = 2\n",
    "IDX_TOOL = 10"
   ]
  },
  {
   "cell_type": "code",
   "execution_count": 6,
   "metadata": {
    "scrolled": true
   },
   "outputs": [],
   "source": [
    "# robot.collision_model.addGeometryObject(floor.collision_model.geometryObjects[0])\n",
    "\n",
    "# robot.collision_model.addCollisionPair(CollisionPair(0, 2))\n",
    "# robot.collision_model.addCollisionPair(CollisionPair(0, 3))\n",
    "# robot.collision_model.addCollisionPair(CollisionPair(1, 3))\n",
    "\n",
    "# robot.collision_model.addCollisionPair(CollisionPair(4, 5))\n",
    "\n",
    "# robot.displayCollisions(True)\n",
    "# robot.collision_data = pin.GeometryData(robot.collision_model)"
   ]
  },
  {
   "cell_type": "code",
   "execution_count": 7,
   "metadata": {},
   "outputs": [],
   "source": [
    "# [print(obj.name) for obj in robot.collision_model.geometryObjects.tolist()]"
   ]
  },
  {
   "cell_type": "code",
   "execution_count": 8,
   "metadata": {},
   "outputs": [],
   "source": [
    "# pin.updateGeometryPlacements(robot.model, robot.data, robot.collision_model, robot.collision_data, q)\n",
    "# pin.computeCollision(robot.collision_model, robot.collision_data, 0)\n",
    "# pin.computeCollisions(robot.collision_model, robot.collision_data, False)"
   ]
  },
  {
   "cell_type": "code",
   "execution_count": 9,
   "metadata": {},
   "outputs": [],
   "source": [
    "for k in range(len(robot.collision_model.collisionPairs)): \n",
    "    cr = robot.collision_data.collisionResults[k]\n",
    "    cp = robot.collision_model.collisionPairs[k]\n",
    "    print(\"collision pair:\",cp.first,\",\",cp.second,\"- collision:\",\"Yes\" if cr.isCollision() else \"No\")"
   ]
  },
  {
   "cell_type": "code",
   "execution_count": 10,
   "metadata": {},
   "outputs": [],
   "source": [
    "def prox(p, mu):\n",
    "    pn = np.max([p[2], 0])\n",
    "    a = mu * pn\n",
    "    pt = np.clip(p[:2], -a, a)\n",
    "    return np.hstack([pt, pn])"
   ]
  },
  {
   "cell_type": "code",
   "execution_count": 11,
   "metadata": {},
   "outputs": [],
   "source": [
    "def step(q, v):\n",
    "    qm = pin.integrate(robot.model, q, dt * v / 2)\n",
    "    Minv = pin.computeMinverse(robot.model, robot.data, qm)\n",
    "    h = -pin.rnea(robot.model, robot.data, qm, v, aq0)\n",
    "    \n",
    "    ve = v + Minv @ h * dt\n",
    "    \n",
    "    # collision detection and resolution\n",
    "    pin.framesForwardKinematics(robot.model, robot.data, qm)\n",
    "    t = robot.data.oMf[IDX_TOOL].translation\n",
    "    \n",
    "    if t[2] < 0:\n",
    "        robot.computeFrameJacobian(qm, IDX_TOOL)\n",
    "        J = robot.getFrameJacobian(IDX_TOOL, ReferenceFrame.LOCAL_WORLD_ALIGNED)[:3, :]\n",
    "        \n",
    "        G = J @ Minv @ J.T\n",
    "        c = J @ v + J @ Minv @ h * dt\n",
    "        \n",
    "        p = np.zeros(3)\n",
    "        p[2] = pin.computeTotalMass(robot.model) * dt * 9.81\n",
    "        \n",
    "        r = 1 / np.max([np.linalg.det(G), 1])\n",
    "        for _ in range(num_iters):\n",
    "            # todo: multiple contact points\n",
    "            p = prox(p - r * (G @ p + c), 1)\n",
    "            \n",
    "        ve += Minv @ J.T @ p\n",
    "    \n",
    "    q = pin.integrate(robot.model, q, dt * (v + ve) / 2)\n",
    "    v = ve\n",
    "    \n",
    "    # correction\n",
    "    if t[2] < 0:\n",
    "        pass\n",
    "    \n",
    "    if False:\n",
    "        g = np.array([0, 0, -t[2]])\n",
    "        robot.computeFrameJacobian(q, IDX_TOOL)\n",
    "        J = robot.getFrameJacobian(IDX_TOOL, ReferenceFrame.LOCAL_WORLD_ALIGNED)[:3, :]\n",
    "        q = pin.integrate(robot.model, q, np.linalg.pinv(J) @ g)\n",
    "        \n",
    "    return q, v"
   ]
  },
  {
   "cell_type": "code",
   "execution_count": 12,
   "metadata": {},
   "outputs": [],
   "source": [
    "q0 = robot.q0\n",
    "v0 = robot.v0\n",
    "\n",
    "q0[2] = 1\n",
    "v0[0] = 0\n",
    "\n",
    "aq0 = np.zeros(robot.nv)"
   ]
  },
  {
   "cell_type": "code",
   "execution_count": 13,
   "metadata": {},
   "outputs": [],
   "source": [
    "dt = 0.01\n",
    "slow = 10\n",
    "num_iters = 100"
   ]
  },
  {
   "cell_type": "code",
   "execution_count": 14,
   "metadata": {},
   "outputs": [],
   "source": [
    "q = q0\n",
    "v = v0\n",
    "\n",
    "# v[6] = 10\n",
    "# v[7] = 10"
   ]
  },
  {
   "cell_type": "code",
   "execution_count": 15,
   "metadata": {
    "scrolled": true
   },
   "outputs": [
    {
     "ename": "KeyboardInterrupt",
     "evalue": "",
     "output_type": "error",
     "traceback": [
      "\u001b[0;31m---------------------------------------------------------------------------\u001b[0m",
      "\u001b[0;31mKeyboardInterrupt\u001b[0m                         Traceback (most recent call last)",
      "\u001b[0;32m<ipython-input-15-0ed737679440>\u001b[0m in \u001b[0;36m<module>\u001b[0;34m\u001b[0m\n\u001b[1;32m      8\u001b[0m     \u001b[0melapsed_time\u001b[0m \u001b[0;34m=\u001b[0m \u001b[0mend_time\u001b[0m \u001b[0;34m-\u001b[0m \u001b[0mstart_time\u001b[0m\u001b[0;34m\u001b[0m\u001b[0;34m\u001b[0m\u001b[0m\n\u001b[1;32m      9\u001b[0m     \u001b[0msleep_time\u001b[0m \u001b[0;34m=\u001b[0m \u001b[0mmax\u001b[0m\u001b[0;34m(\u001b[0m\u001b[0;34m[\u001b[0m\u001b[0mdt\u001b[0m \u001b[0;34m*\u001b[0m \u001b[0mslow\u001b[0m \u001b[0;34m-\u001b[0m \u001b[0melapsed_time\u001b[0m\u001b[0;34m,\u001b[0m \u001b[0;36m0\u001b[0m\u001b[0;34m]\u001b[0m\u001b[0;34m)\u001b[0m\u001b[0;34m\u001b[0m\u001b[0;34m\u001b[0m\u001b[0m\n\u001b[0;32m---> 10\u001b[0;31m     \u001b[0mtime\u001b[0m\u001b[0;34m.\u001b[0m\u001b[0msleep\u001b[0m\u001b[0;34m(\u001b[0m\u001b[0msleep_time\u001b[0m\u001b[0;34m)\u001b[0m\u001b[0;34m\u001b[0m\u001b[0;34m\u001b[0m\u001b[0m\n\u001b[0m",
      "\u001b[0;31mKeyboardInterrupt\u001b[0m: "
     ]
    }
   ],
   "source": [
    "while True:\n",
    "    start_time = time.time()\n",
    "    \n",
    "    q, v = step(q, v)\n",
    "    robot.display(q)\n",
    "    \n",
    "    end_time = time.time()\n",
    "    elapsed_time = end_time - start_time\n",
    "    sleep_time = max([dt * slow - elapsed_time, 0])\n",
    "    time.sleep(sleep_time)"
   ]
  },
  {
   "cell_type": "code",
   "execution_count": null,
   "metadata": {},
   "outputs": [],
   "source": []
  }
 ],
 "metadata": {
  "kernelspec": {
   "display_name": "Python 3",
   "language": "python",
   "name": "python3"
  },
  "language_info": {
   "codemirror_mode": {
    "name": "ipython",
    "version": 3
   },
   "file_extension": ".py",
   "mimetype": "text/x-python",
   "name": "python",
   "nbconvert_exporter": "python",
   "pygments_lexer": "ipython3",
   "version": "3.8.10"
  }
 },
 "nbformat": 4,
 "nbformat_minor": 4
}
