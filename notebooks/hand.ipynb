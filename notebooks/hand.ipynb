{
 "cells": [
  {
   "cell_type": "code",
   "execution_count": 1,
   "metadata": {},
   "outputs": [],
   "source": [
    "from robot_hand import Robot"
   ]
  },
  {
   "cell_type": "code",
   "execution_count": 2,
   "metadata": {},
   "outputs": [
    {
     "name": "stdout",
     "output_type": "stream",
     "text": [
      "Warning: window 'pinocchio' already created.\n",
      "The previously created objects will not be destroyed and do not have to be created again.\n"
     ]
    },
    {
     "name": "stderr",
     "output_type": "stream",
     "text": [
      "/home/cryscan/IdeaProjects/to-ihc/display.py:53: DeprecatedWarning: Call to deprecated function se3ToXYZQUATtuple. This function is now called SE3ToXYZQUATtuple. Please change for this new signature to delete this warning.\n",
      "  pin.se3ToXYZQUATtuple(M))\n"
     ]
    }
   ],
   "source": [
    "robot = Robot()\n",
    "robot.display(robot.q0)"
   ]
  },
  {
   "cell_type": "code",
   "execution_count": 3,
   "metadata": {},
   "outputs": [],
   "source": [
    "from quadprog import solve_qp\n",
    "\n",
    "import numpy as np\n",
    "from numpy.random import rand"
   ]
  },
  {
   "cell_type": "code",
   "execution_count": 4,
   "metadata": {},
   "outputs": [],
   "source": [
    "import pinocchio as se3\n",
    "q = robot.q0\n",
    "q_des = rand(robot.model.nq)\n",
    "\n",
    "vq = rand(robot.model.nv)\n",
    "aq0 = np.zeros(robot.model.nv)"
   ]
  },
  {
   "cell_type": "code",
   "execution_count": 5,
   "metadata": {},
   "outputs": [
    {
     "name": "stderr",
     "output_type": "stream",
     "text": [
      "/home/cryscan/IdeaProjects/to-ihc/robot_hand.py:100: DeprecatedWarning: Call to deprecated function cross. Please use numpy.cross(a, b) or numpy.cross(a, b, axis=0).\n",
      "  r1 = cross(ab, x)\n",
      "/home/cryscan/IdeaProjects/to-ihc/robot_hand.py:103: DeprecatedWarning: Call to deprecated function cross. Please use numpy.cross(a, b) or numpy.cross(a, b, axis=0).\n",
      "  r1 = cross(ab, x)\n",
      "/home/cryscan/IdeaProjects/to-ihc/robot_hand.py:105: DeprecatedWarning: Call to deprecated function cross. Please use numpy.cross(a, b) or numpy.cross(a, b, axis=0).\n",
      "  r2 = cross(ab, r1)\n"
     ]
    }
   ],
   "source": [
    "# Create 10 witness points in the rendering window\n",
    "for i in range(10):\n",
    "    robot.viewer.viewer.gui.addCylinder('world/wa%i' % i, .01, .003, [1, 0, 0, 1])\n",
    "    robot.viewer.viewer.gui.addCylinder('world/wb%i' % i, .01, .003, [1, 0, 0, 1])\n",
    "    robot.viewer.viewer.gui.setVisibility('world/wa%i' % i, 'OFF')\n",
    "    robot.viewer.viewer.gui.setVisibility('world/wb%i' % i, 'OFF')\n",
    "# Add 4 pairs between finger tips and palm\n",
    "robot.collisionPairs.append([2, 8])\n",
    "robot.collisionPairs.append([2, 11])\n",
    "robot.collisionPairs.append([2, 14])\n",
    "robot.collisionPairs.append([2, 16])\n",
    "# Compute distance between object 2 and 8, i.e the first collision pair\n",
    "idx = 0\n",
    "dist = robot.checkCollision(idx)\n",
    "# Display the collision pair by adding two disks at the witness points.\n",
    "robot.displayCollision(idx, 0)"
   ]
  },
  {
   "cell_type": "code",
   "execution_count": null,
   "metadata": {},
   "outputs": [],
   "source": [
    "while True:\n",
    "    # compute dynamic drift -- Coriolis, centrifugal, gravity\n",
    "    b = se3.rnea(robot.model, robot.data, q, vq, aq0)\n",
    "    # compute mass matrix M\n",
    "    Minv = se3.computeMinverse(robot.model, robot.data, q)\n",
    "\n",
    "    Kv = 1\n",
    "    Kp = Kv**2 / 4\n",
    "\n",
    "    tau = Kp * (q_des - q) - Kv * vq\n",
    "    aq = Minv @ (tau - b)\n",
    "\n",
    "    dt = 0.01\n",
    "    vq += aq * dt\n",
    "    q = se3.integrate(robot.model, q, vq * dt)\n",
    "    robot.display(q)"
   ]
  },
  {
   "cell_type": "code",
   "execution_count": null,
   "metadata": {},
   "outputs": [],
   "source": [
    "help(se3.computeJointJacobian)"
   ]
  },
  {
   "cell_type": "code",
   "execution_count": null,
   "metadata": {},
   "outputs": [],
   "source": []
  }
 ],
 "metadata": {
  "kernelspec": {
   "display_name": "Python 3",
   "language": "python",
   "name": "python3"
  },
  "language_info": {
   "codemirror_mode": {
    "name": "ipython",
    "version": 3
   },
   "file_extension": ".py",
   "mimetype": "text/x-python",
   "name": "python",
   "nbconvert_exporter": "python",
   "pygments_lexer": "ipython3",
   "version": "3.8.10"
  }
 },
 "nbformat": 4,
 "nbformat_minor": 4
}
